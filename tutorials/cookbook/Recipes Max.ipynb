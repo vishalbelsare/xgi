{
 "cells": [
  {
   "cell_type": "markdown",
   "id": "653dc386",
   "metadata": {},
   "source": [
    "# Recipe - Simplicial complex from pairwise data"
   ]
  },
  {
   "cell_type": "code",
   "execution_count": 1,
   "id": "624f5b3d",
   "metadata": {},
   "outputs": [],
   "source": [
    "import networkx as nx\n",
    "import xgi"
   ]
  },
  {
   "cell_type": "code",
   "execution_count": 2,
   "id": "f6b7a8a3",
   "metadata": {},
   "outputs": [
    {
     "name": "stdout",
     "output_type": "stream",
     "text": [
      "Unnamed SimplicialComplex with 100 nodes and 219 simplices\n"
     ]
    }
   ],
   "source": [
    "G = nx.barabasi_albert_graph(n=100, m=2, seed=1)\n",
    "H = xgi.flag_complex_d2(G)\n",
    "\n",
    "print(H)"
   ]
  },
  {
   "cell_type": "markdown",
   "id": "02fc66a6",
   "metadata": {},
   "source": [
    "# Recipe - Laplacian spectrum"
   ]
  },
  {
   "cell_type": "code",
   "execution_count": 3,
   "id": "9d4f3987",
   "metadata": {},
   "outputs": [],
   "source": [
    "import matplotlib.pyplot as plt\n",
    "import numpy as np\n",
    "from numpy.linalg import eigh"
   ]
  },
  {
   "cell_type": "code",
   "execution_count": 4,
   "id": "e07eb5c3",
   "metadata": {},
   "outputs": [],
   "source": [
    "H = xgi.random_hypergraph(N=100, ps=[0.2, 0.02], seed=1)"
   ]
  },
  {
   "cell_type": "code",
   "execution_count": 5,
   "id": "04d84b36",
   "metadata": {},
   "outputs": [],
   "source": [
    "orders = np.array(xgi.unique_edge_sizes(H)) - 1\n",
    "\n",
    "L_multi = xgi.multiorder_laplacian(H, orders=orders, weights=[1] * len(orders))\n",
    "\n",
    "eivals, eivects = eigh(L_multi)"
   ]
  },
  {
   "cell_type": "code",
   "execution_count": 6,
   "id": "0f31f7d4",
   "metadata": {},
   "outputs": [
    {
     "data": {
      "text/plain": [
       "[<matplotlib.lines.Line2D at 0x136d256a0>]"
      ]
     },
     "execution_count": 6,
     "metadata": {},
     "output_type": "execute_result"
    },
    {
     "data": {
      "image/png": "[encoded data removed]",
      "text/plain": [
       "<Figure size 640x480 with 1 Axes>"
      ]
     },
     "metadata": {},
     "output_type": "display_data"
    }
   ],
   "source": [
    "plt.plot(eivals)"
   ]
  },
  {
   "cell_type": "markdown",
   "id": "b00ed140",
   "metadata": {},
   "source": [
    "# Adjacency tensor"
   ]
  },
  {
   "cell_type": "code",
   "execution_count": 7,
   "id": "1111428f",
   "metadata": {},
   "outputs": [],
   "source": [
    "from itertools import permutations\n",
    "\n",
    "\n",
    "def adjacency_tensor(H, order):\n",
    "    N = H.num_nodes\n",
    "    shape = tuple([N] * (order + 1))\n",
    "    tensor = np.zeros(shape)\n",
    "\n",
    "    edges = H.edges.filterby(\"order\", order)\n",
    "    for id, members in edges.members(dtype=dict).items():\n",
    "        for idcs in permutations(members):\n",
    "            tensor[idcs] = 1\n",
    "\n",
    "    return tensor"
   ]
  },
  {
   "cell_type": "code",
   "execution_count": 8,
   "id": "d2c798d3",
   "metadata": {},
   "outputs": [
    {
     "name": "stdout",
     "output_type": "stream",
     "text": [
      "(100, 100)\n",
      "(100, 100, 100)\n"
     ]
    }
   ],
   "source": [
    "print(adjacency_tensor(H, 1).shape)\n",
    "print(adjacency_tensor(H, 2).shape)"
   ]
  },
  {
   "cell_type": "code",
   "execution_count": null,
   "id": "35c1d09a",
   "metadata": {},
   "outputs": [],
   "source": []
  }
 ],
 "metadata": {
  "kernelspec": {
   "display_name": "venv_xgi",
   "language": "python",
   "name": "venv_xgi"
  },
  "language_info": {
   "codemirror_mode": {
    "name": "ipython",
    "version": 3
   },
   "file_extension": ".py",
   "mimetype": "text/x-python",
   "name": "python",
   "nbconvert_exporter": "python",
   "pygments_lexer": "ipython3",
   "version": "3.9.13"
  },
  "toc": {
   "base_numbering": 1,
   "nav_menu": {},
   "number_sections": true,
   "sideBar": true,
   "skip_h1_title": false,
   "title_cell": "Table of Contents",
   "title_sidebar": "Contents",
   "toc_cell": false,
   "toc_position": {},
   "toc_section_display": true,
   "toc_window_display": true
  }
 },
 "nbformat": 4,
 "nbformat_minor": 5
}
