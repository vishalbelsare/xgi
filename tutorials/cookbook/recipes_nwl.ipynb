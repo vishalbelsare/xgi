{
 "cells": [
  {
   "cell_type": "code",
   "execution_count": null,
   "metadata": {},
   "outputs": [],
   "source": [
    "import seaborn as sns\n",
    "import xgi\n",
    "import matplotlib.pyplot as plt\n",
    "import pandas as pd\n",
    "import numpy as np"
   ]
  },
  {
   "cell_type": "markdown",
   "metadata": {},
   "source": [
    "# Merging multiedges"
   ]
  },
  {
   "cell_type": "code",
   "execution_count": null,
   "metadata": {},
   "outputs": [],
   "source": [
    "H = xgi.load_xgi_data(\"diseasome\")\n",
    "H.merge_duplicate_edges(rename=\"tuple\", multiplicity=\"weight\")\n",
    "\n",
    "edge_size = H.edges.size.asnumpy()\n",
    "multiplicity = H.edges.attrs(\"weight\").asnumpy()\n",
    "df = pd.DataFrame.from_dict(\n",
    "    {\n",
    "        \"edge size\": H.edges.size.aslist(),\n",
    "        \"multiplicity\": H.edges.attrs(\"weight\", missing=1).aslist(),\n",
    "    }\n",
    ")\n",
    "\n",
    "g = sns.jointplot(data=df, x=\"edge size\", y=\"multiplicity\", kind=\"kde\")\n",
    "sns.despine()"
   ]
  },
  {
   "cell_type": "markdown",
   "metadata": {},
   "source": [
    "# Degree distribution"
   ]
  },
  {
   "cell_type": "code",
   "execution_count": null,
   "metadata": {},
   "outputs": [],
   "source": [
    "H = xgi.load_xgi_data(\"diseasome\")\n",
    "df1 = H.nodes.degree.ashist(bin_edges=True)\n",
    "df2 = H.nodes.degree.ashist(bin_edges=True, log_binning=True)\n",
    "\n",
    "plt.figure(figsize=(14, 4))\n",
    "plt.subplot(131)\n",
    "df1.plot(\n",
    "    \"bin_center\",\n",
    "    \"value\",\n",
    "    ax=plt.gca(),\n",
    "    logx=True,\n",
    "    logy=True,\n",
    "    kind=\"scatter\",\n",
    "    color=\"orange\",\n",
    "    label=\"Linear binning\",\n",
    ")\n",
    "df2.plot(\n",
    "    \"bin_center\",\n",
    "    \"value\",\n",
    "    ax=plt.gca(),\n",
    "    logx=True,\n",
    "    logy=True,\n",
    "    kind=\"scatter\",\n",
    "    label=\"Log binning\",\n",
    ")\n",
    "plt.ylabel(\"Number of nodes\")\n",
    "plt.xlabel(\"Degree\")\n",
    "plt.legend()\n",
    "sns.despine()\n",
    "\n",
    "plt.subplot(132)\n",
    "plt.title(\"Linear binning\")\n",
    "plt.bar(df1.bin_lo, df1.value, width=df1.bin_hi - df1.bin_lo, log=True, color=\"orange\")\n",
    "plt.xscale(\"log\")\n",
    "plt.xlabel(\"Degree\")\n",
    "sns.despine()\n",
    "\n",
    "plt.subplot(133)\n",
    "plt.title(\"Log binning\")\n",
    "plt.bar(df2.bin_lo, df2.value, width=df2.bin_hi - df2.bin_lo, log=True)\n",
    "plt.xscale(\"log\")\n",
    "plt.xlabel(\"Degree\")\n",
    "sns.despine()\n",
    "\n",
    "plt.show()\n",
    "# df1.describe()"
   ]
  },
  {
   "cell_type": "code",
   "execution_count": null,
   "metadata": {},
   "outputs": [],
   "source": [
    "pd.concat([df1.bin_lo, df1.bin_hi]).unique()"
   ]
  }
 ],
 "metadata": {
  "kernelspec": {
   "display_name": "hyper",
   "language": "python",
   "name": "python3"
  },
  "language_info": {
   "codemirror_mode": {
    "name": "ipython",
    "version": 3
   },
   "file_extension": ".py",
   "mimetype": "text/x-python",
   "name": "python",
   "nbconvert_exporter": "python",
   "pygments_lexer": "ipython3",
   "version": "3.10.0"
  },
  "orig_nbformat": 4
 },
 "nbformat": 4,
 "nbformat_minor": 2
}
